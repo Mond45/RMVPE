{
 "cells": [
  {
   "cell_type": "code",
   "execution_count": 158,
   "metadata": {},
   "outputs": [
    {
     "name": "stdout",
     "output_type": "stream",
     "text": [
      "end = 40800\n",
      "padleft =  0\n",
      "padright =  280736\n",
      "chunk shape =  torch.Size([40800])\n",
      "-------\n",
      "end = 68000\n",
      "padleft =  27200\n",
      "padright =  253536\n",
      "chunk shape =  torch.Size([40800])\n",
      "-------\n",
      "end = 95200\n",
      "padleft =  54400\n",
      "padright =  226336\n",
      "chunk shape =  torch.Size([40800])\n",
      "-------\n",
      "end = 122400\n",
      "padleft =  81600\n",
      "padright =  199136\n",
      "chunk shape =  torch.Size([40800])\n",
      "-------\n",
      "end = 149600\n",
      "padleft =  108800\n",
      "padright =  171936\n",
      "chunk shape =  torch.Size([40800])\n",
      "-------\n",
      "end = 176800\n",
      "padleft =  136000\n",
      "padright =  144736\n",
      "chunk shape =  torch.Size([40800])\n",
      "-------\n",
      "end = 204000\n",
      "padleft =  163200\n",
      "padright =  117536\n",
      "chunk shape =  torch.Size([40800])\n",
      "-------\n",
      "end = 231200\n",
      "padleft =  190400\n",
      "padright =  90336\n",
      "chunk shape =  torch.Size([40800])\n",
      "-------\n",
      "end = 258400\n",
      "padleft =  217600\n",
      "padright =  63136\n",
      "chunk shape =  torch.Size([40800])\n",
      "-------\n",
      "end = 285600\n",
      "padleft =  244800\n",
      "padright =  35936\n",
      "chunk shape =  torch.Size([40800])\n",
      "-------\n",
      "end = 312800\n",
      "padleft =  272000\n",
      "padright =  8736\n",
      "chunk shape =  torch.Size([40800])\n",
      "-------\n"
     ]
    }
   ],
   "source": [
    "import librosa\n",
    "import numpy as np\n",
    "import torch\n",
    "import pandas as pd\n",
    "\n",
    "from src.constants import SAMPLE_RATE, WINDOW_LENGTH\n",
    "\n",
    "HOP_LENGTH = 20\n",
    "HOP_LENGTH = int(HOP_LENGTH / 1000 * SAMPLE_RATE)\n",
    "SAMPLE_RATE = 16000\n",
    "\n",
    "audio, _ = librosa.load(\"input/new_cut.wav\", sr=SAMPLE_RATE)\n",
    "audio = torch.from_numpy(audio).float()\n",
    "audio_l = len(audio)\n",
    "seq_len = 2.55\n",
    "seq_len = int(seq_len * SAMPLE_RATE)\n",
    "\n",
    "chunk_duration = 2.55\n",
    "overlap = 1.5\n",
    "chunk_samples = int(chunk_duration * SAMPLE_RATE)\n",
    "chunk_overlap = int(chunk_duration * SAMPLE_RATE  // overlap)\n",
    "divide_chunk = audio_l / chunk_samples\n",
    "chunks = []\n",
    "\n",
    "\n",
    "for i in range(0, audio_l - chunk_samples + 1, chunk_overlap):\n",
    "    chunk = audio[i:i + chunk_samples]\n",
    "    print('end =', i + chunk_samples)\n",
    "    print('padleft = ', i)\n",
    "    print('padright = ', len(audio)-i-chunk_samples)\n",
    "    print('chunk shape = ', chunk.shape)\n",
    "    print('-------')\n",
    "    chunk = torch.nn.functional.pad(chunk, (i, audio_l-i-chunk_samples), 'constant', 0)\n",
    "    chunk = np.pad(chunk, WINDOW_LENGTH // 2, mode=\"constant\")        \n",
    "    chunks.append(chunk)\n",
    "\n",
    "\n",
    "datas = []\n",
    "\n",
    "for chunk in chunks :\n",
    "    data = []\n",
    "    for i in range(len(chunk) // seq_len):\n",
    "        begin_t = i * seq_len\n",
    "        end_t = begin_t + seq_len + WINDOW_LENGTH\n",
    "        data.append(\n",
    "            chunk[begin_t:end_t],\n",
    "        )\n",
    "    chunk = chunk[end_t - WINDOW_LENGTH :]\n",
    "    padding_size = seq_len + WINDOW_LENGTH - len(chunk)\n",
    "    data.append(\n",
    "        np.pad(chunk, (0, padding_size), mode='constant'),\n",
    "    )\n",
    "    datas.append(data)\n",
    "\n",
    "datas = torch.from_numpy(np.array(datas)).float()\n",
    "chunk_n = datas.shape[1]"
   ]
  },
  {
   "cell_type": "code",
   "execution_count": 159,
   "metadata": {},
   "outputs": [],
   "source": [
    "from src.model import E2E\n",
    "\n",
    "\n",
    "model = torch.load('runs/Pitch_FL6_0/model.pt')\n",
    "model.eval()\n",
    "model = model.cuda()"
   ]
  },
  {
   "cell_type": "code",
   "execution_count": 160,
   "metadata": {},
   "outputs": [
    {
     "ename": "AssertionError",
     "evalue": "",
     "output_type": "error",
     "traceback": [
      "\u001b[1;31m---------------------------------------------------------------------------\u001b[0m",
      "\u001b[1;31mAssertionError\u001b[0m                            Traceback (most recent call last)",
      "Cell \u001b[1;32mIn[160], line 6\u001b[0m\n\u001b[0;32m      4\u001b[0m     data \u001b[38;5;241m=\u001b[39m data\u001b[38;5;241m.\u001b[39mcuda()\n\u001b[0;32m      5\u001b[0m     \u001b[38;5;28;01mwith\u001b[39;00m torch\u001b[38;5;241m.\u001b[39mno_grad():\n\u001b[1;32m----> 6\u001b[0m         result \u001b[38;5;241m=\u001b[39m \u001b[43mmodel\u001b[49m\u001b[43m(\u001b[49m\u001b[43mdata\u001b[49m\u001b[43m)\u001b[49m\n\u001b[0;32m      7\u001b[0m         results\u001b[38;5;241m.\u001b[39mappend(result[\u001b[38;5;241m1\u001b[39m]\u001b[38;5;241m.\u001b[39mcpu()\u001b[38;5;241m.\u001b[39mnumpy())\n\u001b[0;32m      9\u001b[0m results \u001b[38;5;241m=\u001b[39m torch\u001b[38;5;241m.\u001b[39mfrom_numpy(np\u001b[38;5;241m.\u001b[39marray(results))\u001b[38;5;241m.\u001b[39mfloat()\n",
      "File \u001b[1;32mc:\\Users\\putte\\miniconda3\\envs\\rmvpe2\\lib\\site-packages\\torch\\nn\\modules\\module.py:1532\u001b[0m, in \u001b[0;36mModule._wrapped_call_impl\u001b[1;34m(self, *args, **kwargs)\u001b[0m\n\u001b[0;32m   1530\u001b[0m     \u001b[38;5;28;01mreturn\u001b[39;00m \u001b[38;5;28mself\u001b[39m\u001b[38;5;241m.\u001b[39m_compiled_call_impl(\u001b[38;5;241m*\u001b[39margs, \u001b[38;5;241m*\u001b[39m\u001b[38;5;241m*\u001b[39mkwargs)  \u001b[38;5;66;03m# type: ignore[misc]\u001b[39;00m\n\u001b[0;32m   1531\u001b[0m \u001b[38;5;28;01melse\u001b[39;00m:\n\u001b[1;32m-> 1532\u001b[0m     \u001b[38;5;28;01mreturn\u001b[39;00m \u001b[38;5;28mself\u001b[39m\u001b[38;5;241m.\u001b[39m_call_impl(\u001b[38;5;241m*\u001b[39margs, \u001b[38;5;241m*\u001b[39m\u001b[38;5;241m*\u001b[39mkwargs)\n",
      "File \u001b[1;32mc:\\Users\\putte\\miniconda3\\envs\\rmvpe2\\lib\\site-packages\\torch\\nn\\modules\\module.py:1541\u001b[0m, in \u001b[0;36mModule._call_impl\u001b[1;34m(self, *args, **kwargs)\u001b[0m\n\u001b[0;32m   1536\u001b[0m \u001b[38;5;66;03m# If we don't have any hooks, we want to skip the rest of the logic in\u001b[39;00m\n\u001b[0;32m   1537\u001b[0m \u001b[38;5;66;03m# this function, and just call forward.\u001b[39;00m\n\u001b[0;32m   1538\u001b[0m \u001b[38;5;28;01mif\u001b[39;00m \u001b[38;5;129;01mnot\u001b[39;00m (\u001b[38;5;28mself\u001b[39m\u001b[38;5;241m.\u001b[39m_backward_hooks \u001b[38;5;129;01mor\u001b[39;00m \u001b[38;5;28mself\u001b[39m\u001b[38;5;241m.\u001b[39m_backward_pre_hooks \u001b[38;5;129;01mor\u001b[39;00m \u001b[38;5;28mself\u001b[39m\u001b[38;5;241m.\u001b[39m_forward_hooks \u001b[38;5;129;01mor\u001b[39;00m \u001b[38;5;28mself\u001b[39m\u001b[38;5;241m.\u001b[39m_forward_pre_hooks\n\u001b[0;32m   1539\u001b[0m         \u001b[38;5;129;01mor\u001b[39;00m _global_backward_pre_hooks \u001b[38;5;129;01mor\u001b[39;00m _global_backward_hooks\n\u001b[0;32m   1540\u001b[0m         \u001b[38;5;129;01mor\u001b[39;00m _global_forward_hooks \u001b[38;5;129;01mor\u001b[39;00m _global_forward_pre_hooks):\n\u001b[1;32m-> 1541\u001b[0m     \u001b[38;5;28;01mreturn\u001b[39;00m forward_call(\u001b[38;5;241m*\u001b[39margs, \u001b[38;5;241m*\u001b[39m\u001b[38;5;241m*\u001b[39mkwargs)\n\u001b[0;32m   1543\u001b[0m \u001b[38;5;28;01mtry\u001b[39;00m:\n\u001b[0;32m   1544\u001b[0m     result \u001b[38;5;241m=\u001b[39m \u001b[38;5;28;01mNone\u001b[39;00m\n",
      "File \u001b[1;32mc:\\Users\\putte\\Desktop\\RMVPE\\src\\model.py:47\u001b[0m, in \u001b[0;36mE2E.forward\u001b[1;34m(self, x)\u001b[0m\n\u001b[0;32m     46\u001b[0m \u001b[38;5;28;01mdef\u001b[39;00m \u001b[38;5;21mforward\u001b[39m(\u001b[38;5;28mself\u001b[39m, x):\n\u001b[1;32m---> 47\u001b[0m     mel \u001b[38;5;241m=\u001b[39m \u001b[38;5;28;43mself\u001b[39;49m\u001b[38;5;241;43m.\u001b[39;49m\u001b[43mmel\u001b[49m\u001b[43m(\u001b[49m\u001b[43mx\u001b[49m\u001b[38;5;241;43m.\u001b[39;49m\u001b[43mreshape\u001b[49m\u001b[43m(\u001b[49m\u001b[38;5;241;43m-\u001b[39;49m\u001b[38;5;241;43m1\u001b[39;49m\u001b[43m,\u001b[49m\u001b[43m \u001b[49m\u001b[43mx\u001b[49m\u001b[38;5;241;43m.\u001b[39;49m\u001b[43mshape\u001b[49m\u001b[43m[\u001b[49m\u001b[38;5;241;43m-\u001b[39;49m\u001b[38;5;241;43m1\u001b[39;49m\u001b[43m]\u001b[49m\u001b[43m)\u001b[49m\u001b[43m)\u001b[49m\u001b[38;5;241m.\u001b[39mtranspose(\u001b[38;5;241m-\u001b[39m\u001b[38;5;241m1\u001b[39m, \u001b[38;5;241m-\u001b[39m\u001b[38;5;241m2\u001b[39m)\u001b[38;5;241m.\u001b[39munsqueeze(\u001b[38;5;241m1\u001b[39m)\n\u001b[0;32m     48\u001b[0m     x \u001b[38;5;241m=\u001b[39m \u001b[38;5;28mself\u001b[39m\u001b[38;5;241m.\u001b[39mcnn(\u001b[38;5;28mself\u001b[39m\u001b[38;5;241m.\u001b[39munet(mel))\u001b[38;5;241m.\u001b[39mtranspose(\u001b[38;5;241m1\u001b[39m, \u001b[38;5;241m2\u001b[39m)\u001b[38;5;241m.\u001b[39mflatten(\u001b[38;5;241m-\u001b[39m\u001b[38;5;241m2\u001b[39m)\n\u001b[0;32m     49\u001b[0m     \u001b[38;5;66;03m# x = self.fc(x)\u001b[39;00m\n",
      "File \u001b[1;32mc:\\Users\\putte\\miniconda3\\envs\\rmvpe2\\lib\\site-packages\\torch\\nn\\modules\\module.py:1532\u001b[0m, in \u001b[0;36mModule._wrapped_call_impl\u001b[1;34m(self, *args, **kwargs)\u001b[0m\n\u001b[0;32m   1530\u001b[0m     \u001b[38;5;28;01mreturn\u001b[39;00m \u001b[38;5;28mself\u001b[39m\u001b[38;5;241m.\u001b[39m_compiled_call_impl(\u001b[38;5;241m*\u001b[39margs, \u001b[38;5;241m*\u001b[39m\u001b[38;5;241m*\u001b[39mkwargs)  \u001b[38;5;66;03m# type: ignore[misc]\u001b[39;00m\n\u001b[0;32m   1531\u001b[0m \u001b[38;5;28;01melse\u001b[39;00m:\n\u001b[1;32m-> 1532\u001b[0m     \u001b[38;5;28;01mreturn\u001b[39;00m \u001b[38;5;28mself\u001b[39m\u001b[38;5;241m.\u001b[39m_call_impl(\u001b[38;5;241m*\u001b[39margs, \u001b[38;5;241m*\u001b[39m\u001b[38;5;241m*\u001b[39mkwargs)\n",
      "File \u001b[1;32mc:\\Users\\putte\\miniconda3\\envs\\rmvpe2\\lib\\site-packages\\torch\\nn\\modules\\module.py:1541\u001b[0m, in \u001b[0;36mModule._call_impl\u001b[1;34m(self, *args, **kwargs)\u001b[0m\n\u001b[0;32m   1536\u001b[0m \u001b[38;5;66;03m# If we don't have any hooks, we want to skip the rest of the logic in\u001b[39;00m\n\u001b[0;32m   1537\u001b[0m \u001b[38;5;66;03m# this function, and just call forward.\u001b[39;00m\n\u001b[0;32m   1538\u001b[0m \u001b[38;5;28;01mif\u001b[39;00m \u001b[38;5;129;01mnot\u001b[39;00m (\u001b[38;5;28mself\u001b[39m\u001b[38;5;241m.\u001b[39m_backward_hooks \u001b[38;5;129;01mor\u001b[39;00m \u001b[38;5;28mself\u001b[39m\u001b[38;5;241m.\u001b[39m_backward_pre_hooks \u001b[38;5;129;01mor\u001b[39;00m \u001b[38;5;28mself\u001b[39m\u001b[38;5;241m.\u001b[39m_forward_hooks \u001b[38;5;129;01mor\u001b[39;00m \u001b[38;5;28mself\u001b[39m\u001b[38;5;241m.\u001b[39m_forward_pre_hooks\n\u001b[0;32m   1539\u001b[0m         \u001b[38;5;129;01mor\u001b[39;00m _global_backward_pre_hooks \u001b[38;5;129;01mor\u001b[39;00m _global_backward_hooks\n\u001b[0;32m   1540\u001b[0m         \u001b[38;5;129;01mor\u001b[39;00m _global_forward_hooks \u001b[38;5;129;01mor\u001b[39;00m _global_forward_pre_hooks):\n\u001b[1;32m-> 1541\u001b[0m     \u001b[38;5;28;01mreturn\u001b[39;00m forward_call(\u001b[38;5;241m*\u001b[39margs, \u001b[38;5;241m*\u001b[39m\u001b[38;5;241m*\u001b[39mkwargs)\n\u001b[0;32m   1543\u001b[0m \u001b[38;5;28;01mtry\u001b[39;00m:\n\u001b[0;32m   1544\u001b[0m     result \u001b[38;5;241m=\u001b[39m \u001b[38;5;28;01mNone\u001b[39;00m\n",
      "File \u001b[1;32mc:\\Users\\putte\\Desktop\\RMVPE\\src\\spec.py:103\u001b[0m, in \u001b[0;36mMelSpectrogram.forward\u001b[1;34m(self, y)\u001b[0m\n\u001b[0;32m     94\u001b[0m \u001b[38;5;28;01mdef\u001b[39;00m \u001b[38;5;21mforward\u001b[39m(\u001b[38;5;28mself\u001b[39m, y):\n\u001b[0;32m     95\u001b[0m \u001b[38;5;250m    \u001b[39m\u001b[38;5;124;03m\"\"\"Computes mel-spectrograms from a batch of waves\u001b[39;00m\n\u001b[0;32m     96\u001b[0m \u001b[38;5;124;03m    PARAMS\u001b[39;00m\n\u001b[0;32m     97\u001b[0m \u001b[38;5;124;03m    ------\u001b[39;00m\n\u001b[1;32m   (...)\u001b[0m\n\u001b[0;32m    101\u001b[0m \u001b[38;5;124;03m    mel_output: torch.FloatTensor of shape (B, T, n_mels)\u001b[39;00m\n\u001b[0;32m    102\u001b[0m \u001b[38;5;124;03m    \"\"\"\u001b[39;00m\n\u001b[1;32m--> 103\u001b[0m     \u001b[38;5;28;01massert\u001b[39;00m torch\u001b[38;5;241m.\u001b[39mmin(y\u001b[38;5;241m.\u001b[39mdata) \u001b[38;5;241m>\u001b[39m\u001b[38;5;241m=\u001b[39m \u001b[38;5;241m-\u001b[39m\u001b[38;5;241m1\u001b[39m\n\u001b[0;32m    104\u001b[0m     \u001b[38;5;28;01massert\u001b[39;00m torch\u001b[38;5;241m.\u001b[39mmax(y\u001b[38;5;241m.\u001b[39mdata) \u001b[38;5;241m<\u001b[39m\u001b[38;5;241m=\u001b[39m \u001b[38;5;241m1\u001b[39m\n\u001b[0;32m    106\u001b[0m     magnitudes, phases \u001b[38;5;241m=\u001b[39m \u001b[38;5;28mself\u001b[39m\u001b[38;5;241m.\u001b[39mstft(y)\n",
      "\u001b[1;31mAssertionError\u001b[0m: "
     ]
    }
   ],
   "source": [
    "results = []\n",
    "overlap_results = []\n",
    "for data in datas:\n",
    "    data = data.cuda()\n",
    "    with torch.no_grad():\n",
    "        result = model(data)\n",
    "        results.append(result[1].cpu().numpy())\n",
    "\n",
    "results = torch.from_numpy(np.array(results)).float()"
   ]
  },
  {
   "cell_type": "code",
   "execution_count": null,
   "metadata": {},
   "outputs": [
    {
     "name": "stdout",
     "output_type": "stream",
     "text": [
      "torch.Size([8, 128, 360])\n",
      "torch.Size([8, 128, 360])\n",
      "torch.Size([8, 128, 360])\n",
      "torch.Size([8, 128, 360])\n",
      "torch.Size([8, 128, 360])\n",
      "torch.Size([8, 128, 360])\n",
      "torch.Size([8, 128, 360])\n",
      "torch.Size([8, 128, 360])\n",
      "torch.Size([8, 128, 360])\n",
      "torch.Size([8, 128, 360])\n"
     ]
    }
   ],
   "source": [
    "from src.utils import to_local_average_cents\n",
    "\n",
    "cents_pred_chunk = []\n",
    "\n",
    "for result in results:\n",
    "    print(result.shape)\n",
    "    cents_pred = to_local_average_cents(result.view(-1,360).cpu().numpy(),None, 0 )\n",
    "    cents_pred_chunk.append(cents_pred)"
   ]
  },
  {
   "cell_type": "code",
   "execution_count": null,
   "metadata": {},
   "outputs": [
    {
     "name": "stdout",
     "output_type": "stream",
     "text": [
      "0: 128\n",
      "85: 213\n",
      "170: 298\n",
      "255: 383\n",
      "340: 468\n",
      "425: 553\n",
      "510: 638\n",
      "595: 723\n",
      "680: 808\n",
      "765: 893\n"
     ]
    },
    {
     "name": "stderr",
     "output_type": "stream",
     "text": [
      "C:\\Users\\putte\\AppData\\Local\\Temp\\ipykernel_18772\\2363046181.py:16: RuntimeWarning: Mean of empty slice\n",
      "  freq_result = np.nanmean(freqs, axis=0)\n"
     ]
    }
   ],
   "source": [
    "freqs = []\n",
    "freq_l = cents_pred_chunk[0].shape[0]\n",
    "freq_chunk_size = int(freq_l // chunk_n)\n",
    "overlap_chunk =  int(freq_chunk_size // overlap)\n",
    "for i, cents_pred in enumerate(cents_pred_chunk):\n",
    "    freq = np.array(\n",
    "        [10 * (2 ** (cent / 1200)) if cent else 0 for cent in cents_pred]\n",
    "    )\n",
    "    st = max(0,i*overlap_chunk)\n",
    "    print(f'{st}: {st+freq_chunk_size}')\n",
    "    freq_pad = np.pad(freq[st: st+freq_chunk_size], (st, freq_l - (st+freq_chunk_size)), mode=\"constant\")\n",
    "    freqs.append(freq_pad)\n",
    "\n",
    "freqs = np.array(freqs)\n",
    "freqs[freqs == 0] = np.nan\n",
    "freq_result = np.nanmean(freqs, axis=0)"
   ]
  },
  {
   "cell_type": "code",
   "execution_count": null,
   "metadata": {},
   "outputs": [],
   "source": [
    "df = pd.DataFrame({\"frequency\": freq_result})"
   ]
  },
  {
   "cell_type": "code",
   "execution_count": null,
   "metadata": {},
   "outputs": [],
   "source": [
    "df.to_csv('f0.csv', index=False)"
   ]
  },
  {
   "cell_type": "code",
   "execution_count": null,
   "metadata": {},
   "outputs": [],
   "source": [
    "import pandas as pd\n",
    "import numpy as np\n",
    "from scipy.io.wavfile import write\n",
    "\n",
    "f0 = pd.read_csv(\"f0.csv\")\n",
    "\n",
    "\n",
    "def nco(fcw, sr):\n",
    "    phase = 0\n",
    "    phase_result = []\n",
    "    for fcw_samp in fcw:\n",
    "        ph_step = 2 * np.pi * fcw_samp * 1 / sr\n",
    "        phase += ph_step\n",
    "        phase_result.append(phase)\n",
    "    return np.cos(phase_result)\n",
    "\n",
    "\n",
    "step_size = 20\n",
    "SAMPLE_RATE = 16000\n",
    "quantum = (SAMPLE_RATE * step_size) // 1000\n",
    "# sample_rate = quantum * (1000 // step_size)\n",
    "\n",
    "fcw = np.zeros(quantum * f0.shape[0])\n",
    "\n",
    "for i in range(f0.shape[0]):\n",
    "    fcw[quantum * (i) : quantum * (i + 1)] = f0[\"frequency\"][i]\n",
    "\n",
    "output = nco(fcw, SAMPLE_RATE)\n",
    "\n",
    "\n",
    "\n",
    "write(\"new_cut.wav\", SAMPLE_RATE, output)"
   ]
  }
 ],
 "metadata": {
  "kernelspec": {
   "display_name": "rmvpe",
   "language": "python",
   "name": "python3"
  },
  "language_info": {
   "codemirror_mode": {
    "name": "ipython",
    "version": 3
   },
   "file_extension": ".py",
   "mimetype": "text/x-python",
   "name": "python",
   "nbconvert_exporter": "python",
   "pygments_lexer": "ipython3",
   "version": "3.10.14"
  }
 },
 "nbformat": 4,
 "nbformat_minor": 2
}

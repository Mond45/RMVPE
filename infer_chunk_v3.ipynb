{
 "cells": [
  {
   "cell_type": "code",
   "execution_count": 566,
   "metadata": {},
   "outputs": [
    {
     "name": "stdout",
     "output_type": "stream",
     "text": [
      "end = 40800\n",
      "padleft =  0\n",
      "padright =  263673\n",
      "chunk shape =  torch.Size([40800])\n",
      "-------\n",
      "end = 68000\n",
      "padleft =  27200\n",
      "padright =  236473\n",
      "chunk shape =  torch.Size([40800])\n",
      "-------\n",
      "end = 95200\n",
      "padleft =  54400\n",
      "padright =  209273\n",
      "chunk shape =  torch.Size([40800])\n",
      "-------\n",
      "end = 122400\n",
      "padleft =  81600\n",
      "padright =  182073\n",
      "chunk shape =  torch.Size([40800])\n",
      "-------\n",
      "end = 149600\n",
      "padleft =  108800\n",
      "padright =  154873\n",
      "chunk shape =  torch.Size([40800])\n",
      "-------\n",
      "end = 176800\n",
      "padleft =  136000\n",
      "padright =  127673\n",
      "chunk shape =  torch.Size([40800])\n",
      "-------\n",
      "end = 204000\n",
      "padleft =  163200\n",
      "padright =  100473\n",
      "chunk shape =  torch.Size([40800])\n",
      "-------\n",
      "end = 231200\n",
      "padleft =  190400\n",
      "padright =  73273\n",
      "chunk shape =  torch.Size([40800])\n",
      "-------\n",
      "end = 258400\n",
      "padleft =  217600\n",
      "padright =  46073\n",
      "chunk shape =  torch.Size([40800])\n",
      "-------\n",
      "end = 285600\n",
      "padleft =  244800\n",
      "padright =  18873\n",
      "chunk shape =  torch.Size([40800])\n",
      "-------\n"
     ]
    }
   ],
   "source": [
    "import librosa\n",
    "import numpy as np\n",
    "import torch\n",
    "import pandas as pd\n",
    "\n",
    "from src.constants import SAMPLE_RATE, WINDOW_LENGTH\n",
    "\n",
    "HOP_LENGTH = 20\n",
    "HOP_LENGTH = int(HOP_LENGTH / 1000 * SAMPLE_RATE)\n",
    "SAMPLE_RATE = 16000\n",
    "\n",
    "audio, _ = librosa.load(\"input/j3ko.wav\", sr=SAMPLE_RATE)\n",
    "audio_l = len(audio)\n",
    "\n",
    "\n",
    "audio = torch.from_numpy(audio).float()\n",
    "audio_steps = audio_l // HOP_LENGTH + 1\n",
    "\n",
    "seq_len = 2.55\n",
    "seq_len = int(seq_len * SAMPLE_RATE)\n",
    "\n",
    "chunk_duration = 2.55\n",
    "overlap = 1.5\n",
    "chunk_samples = int(chunk_duration * SAMPLE_RATE)\n",
    "chunk_overlap = int(chunk_duration * SAMPLE_RATE  // overlap)\n",
    "chunks = []\n",
    "# print(len(audio))\n",
    "# print(len(audio) - chunk_samples)\n",
    "for i in range(0, len(audio) - chunk_samples + 1, chunk_overlap):\n",
    "    chunk = audio[i:i + chunk_samples]\n",
    "    print('end =', i + chunk_samples)\n",
    "    print('padleft = ', i)\n",
    "    print('padright = ', len(audio)-i-chunk_samples)\n",
    "    print('chunk shape = ', chunk.shape)\n",
    "    print('-------')\n",
    "    chunk = torch.nn.functional.pad(chunk, (i, len(audio)-i-chunk_samples), 'constant', 0)\n",
    "    chunk = np.pad(chunk, WINDOW_LENGTH // 2, mode=\"constant\")        \n",
    "    chunks.append(chunk)\n",
    "\n",
    "\n",
    "datas = []\n",
    "\n",
    "for chunk in chunks :\n",
    "    data = []\n",
    "    for i in range(len(chunk) // seq_len):\n",
    "        begin_t = i * seq_len\n",
    "        end_t = begin_t + seq_len + WINDOW_LENGTH\n",
    "        data.append(\n",
    "            chunk[begin_t:end_t],\n",
    "        )\n",
    "    chunk = chunk[end_t - WINDOW_LENGTH :]\n",
    "    padding_size = seq_len + WINDOW_LENGTH - len(chunk)\n",
    "    data.append(\n",
    "        np.pad(chunk, (0, padding_size), mode='constant'),\n",
    "    )\n",
    "    datas.append(data)\n",
    "\n",
    "datas = torch.from_numpy(np.array(datas)).float()\n",
    "chunk_n = datas.shape[1]"
   ]
  },
  {
   "cell_type": "code",
   "execution_count": 567,
   "metadata": {},
   "outputs": [
    {
     "data": {
      "text/plain": [
       "7.462573529411765"
      ]
     },
     "execution_count": 567,
     "metadata": {},
     "output_type": "execute_result"
    }
   ],
   "source": [
    "len(audio) / seq_len"
   ]
  },
  {
   "cell_type": "code",
   "execution_count": 568,
   "metadata": {},
   "outputs": [
    {
     "data": {
      "text/plain": [
       "0.0"
      ]
     },
     "execution_count": 568,
     "metadata": {},
     "output_type": "execute_result"
    }
   ],
   "source": [
    "len(chunk[end_t - WINDOW_LENGTH :])/seq_len"
   ]
  },
  {
   "cell_type": "code",
   "execution_count": 569,
   "metadata": {},
   "outputs": [
    {
     "data": {
      "text/plain": [
       "0.4625735294117647"
      ]
     },
     "execution_count": 569,
     "metadata": {},
     "output_type": "execute_result"
    }
   ],
   "source": [
    "(len(audio) - end_t + WINDOW_LENGTH)/seq_len"
   ]
  },
  {
   "cell_type": "code",
   "execution_count": 570,
   "metadata": {},
   "outputs": [
    {
     "data": {
      "text/plain": [
       "8"
      ]
     },
     "execution_count": 570,
     "metadata": {},
     "output_type": "execute_result"
    }
   ],
   "source": [
    "datas.shape[1]"
   ]
  },
  {
   "cell_type": "code",
   "execution_count": 571,
   "metadata": {},
   "outputs": [
    {
     "data": {
      "text/plain": [
       "10"
      ]
     },
     "execution_count": 571,
     "metadata": {},
     "output_type": "execute_result"
    }
   ],
   "source": [
    "len(chunks)"
   ]
  },
  {
   "cell_type": "code",
   "execution_count": 572,
   "metadata": {},
   "outputs": [],
   "source": [
    "from src.model import E2E\n",
    "\n",
    "\n",
    "model = torch.load('runs/Pitch_FL6_0/model.pt')\n",
    "model.eval()\n",
    "model = model.cuda()"
   ]
  },
  {
   "cell_type": "code",
   "execution_count": 573,
   "metadata": {},
   "outputs": [],
   "source": [
    "results = []\n",
    "overlap_results = []\n",
    "i = 0\n",
    "for data in datas:\n",
    "    data = data.cuda()\n",
    "    with torch.no_grad():\n",
    "        result = model(data)\n",
    "        results.append(result[1].cpu().numpy())\n",
    "    i += 1\n",
    "\n",
    "results = torch.from_numpy(np.array(results)).float()"
   ]
  },
  {
   "cell_type": "code",
   "execution_count": 574,
   "metadata": {},
   "outputs": [
    {
     "data": {
      "text/plain": [
       "torch.Size([10, 8, 128, 360])"
      ]
     },
     "execution_count": 574,
     "metadata": {},
     "output_type": "execute_result"
    }
   ],
   "source": [
    "results.shape"
   ]
  },
  {
   "cell_type": "code",
   "execution_count": 575,
   "metadata": {},
   "outputs": [
    {
     "name": "stdout",
     "output_type": "stream",
     "text": [
      "torch.Size([8, 128, 360])\n",
      "torch.Size([8, 128, 360])\n",
      "torch.Size([8, 128, 360])\n",
      "torch.Size([8, 128, 360])\n",
      "torch.Size([8, 128, 360])\n",
      "torch.Size([8, 128, 360])\n",
      "torch.Size([8, 128, 360])\n",
      "torch.Size([8, 128, 360])\n",
      "torch.Size([8, 128, 360])\n",
      "torch.Size([8, 128, 360])\n"
     ]
    }
   ],
   "source": [
    "from src.utils import to_local_average_cents\n",
    "\n",
    "cents_pred_chunk = []\n",
    "\n",
    "for result in results:\n",
    "    print(result.shape)\n",
    "    cents_pred = to_local_average_cents(result.view(-1,360).cpu().numpy(),None, 0 )\n",
    "    cents_pred_chunk.append(cents_pred)"
   ]
  },
  {
   "cell_type": "code",
   "execution_count": 576,
   "metadata": {},
   "outputs": [
    {
     "data": {
      "text/plain": [
       "128.0"
      ]
     },
     "execution_count": 576,
     "metadata": {},
     "output_type": "execute_result"
    }
   ],
   "source": [
    "cents_pred_chunk[0].shape[0] / 8"
   ]
  },
  {
   "cell_type": "code",
   "execution_count": 577,
   "metadata": {},
   "outputs": [
    {
     "data": {
      "text/plain": [
       "(1024,)"
      ]
     },
     "execution_count": 577,
     "metadata": {},
     "output_type": "execute_result"
    }
   ],
   "source": [
    "cents_pred_chunk[0].shape"
   ]
  },
  {
   "cell_type": "code",
   "execution_count": 578,
   "metadata": {},
   "outputs": [
    {
     "data": {
      "text/plain": [
       "128"
      ]
     },
     "execution_count": 578,
     "metadata": {},
     "output_type": "execute_result"
    }
   ],
   "source": [
    "freq_l // chunk_n"
   ]
  },
  {
   "cell_type": "code",
   "execution_count": 579,
   "metadata": {},
   "outputs": [
    {
     "name": "stdout",
     "output_type": "stream",
     "text": [
      "0: 128\n",
      "85: 213\n",
      "170: 298\n",
      "255: 383\n",
      "340: 468\n",
      "425: 553\n",
      "510: 638\n",
      "595: 723\n",
      "680: 808\n",
      "765: 893\n"
     ]
    },
    {
     "name": "stderr",
     "output_type": "stream",
     "text": [
      "C:\\Users\\putte\\AppData\\Local\\Temp\\ipykernel_23992\\1199437621.py:19: RuntimeWarning: Mean of empty slice\n",
      "  freq_result = np.nanmean(freqs, axis=0)\n"
     ]
    }
   ],
   "source": [
    "freqs = []\n",
    "freq_l = cents_pred_chunk[0].shape[0]\n",
    "freq_chunk_size = freq_l // chunk_n\n",
    "overlap_chunk =  int(freq_chunk_size // overlap)\n",
    "for i, cents_pred in enumerate(cents_pred_chunk):\n",
    "    freq = np.array(\n",
    "        [10 * (2 ** (cent / 1200)) if cent else 0 for cent in cents_pred]\n",
    "    )\n",
    "    st = max(0,i*overlap_chunk)\n",
    "    print(f'{st}: {st+freq_chunk_size}')\n",
    "    freq_pad = np.pad(freq[st: st+freq_chunk_size], (st, freq_l - (st+freq_chunk_size)), mode=\"constant\")\n",
    "    freqs.append(freq_pad)\n",
    "\n",
    "freqs = np.array(freqs)\n",
    "freqs[freqs == 0] = np.nan\n",
    "freq_result = np.nanmean(freqs, axis=0)"
   ]
  },
  {
   "cell_type": "code",
   "execution_count": 582,
   "metadata": {},
   "outputs": [],
   "source": [
    "df = pd.DataFrame({\"frequency\": freq_result})"
   ]
  },
  {
   "cell_type": "code",
   "execution_count": 583,
   "metadata": {},
   "outputs": [],
   "source": [
    "df.to_csv('f0.csv', index=False)"
   ]
  },
  {
   "cell_type": "code",
   "execution_count": 584,
   "metadata": {},
   "outputs": [],
   "source": [
    "import pandas as pd\n",
    "import numpy as np\n",
    "from scipy.io.wavfile import write\n",
    "\n",
    "f0 = pd.read_csv(\"f0.csv\")\n",
    "\n",
    "\n",
    "def nco(fcw, sr):\n",
    "    phase = 0\n",
    "    phase_result = []\n",
    "    for fcw_samp in fcw:\n",
    "        ph_step = 2 * np.pi * fcw_samp * 1 / sr\n",
    "        phase += ph_step\n",
    "        phase_result.append(phase)\n",
    "    return np.cos(phase_result)\n",
    "\n",
    "\n",
    "step_size = 20\n",
    "SAMPLE_RATE = 16000\n",
    "quantum = (SAMPLE_RATE * step_size) // 1000\n",
    "# sample_rate = quantum * (1000 // step_size)\n",
    "\n",
    "fcw = np.zeros(quantum * f0.shape[0])\n",
    "\n",
    "for i in range(f0.shape[0]):\n",
    "    fcw[quantum * (i) : quantum * (i + 1)] = f0[\"frequency\"][i]\n",
    "\n",
    "output = nco(fcw, SAMPLE_RATE)\n",
    "\n",
    "\n",
    "\n",
    "write(\"j3k.wav\", SAMPLE_RATE, output)"
   ]
  },
  {
   "cell_type": "code",
   "execution_count": null,
   "metadata": {},
   "outputs": [],
   "source": []
  },
  {
   "cell_type": "code",
   "execution_count": null,
   "metadata": {},
   "outputs": [],
   "source": []
  }
 ],
 "metadata": {
  "kernelspec": {
   "display_name": "rmvpe",
   "language": "python",
   "name": "python3"
  },
  "language_info": {
   "codemirror_mode": {
    "name": "ipython",
    "version": 3
   },
   "file_extension": ".py",
   "mimetype": "text/x-python",
   "name": "python",
   "nbconvert_exporter": "python",
   "pygments_lexer": "ipython3",
   "version": "3.10.14"
  }
 },
 "nbformat": 4,
 "nbformat_minor": 2
}

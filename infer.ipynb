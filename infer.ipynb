{
 "cells": [
  {
   "cell_type": "code",
   "execution_count": 1,
   "metadata": {},
   "outputs": [],
   "source": [
    "import librosa\n",
    "import numpy as np\n",
    "import torch\n",
    "\n",
    "from src.constants import SAMPLE_RATE, WINDOW_LENGTH\n",
    "\n",
    "HOP_LENGTH = 20\n",
    "HOP_LENGTH = int(HOP_LENGTH / 1000 * SAMPLE_RATE)\n",
    "SAMPLE_RATE = 16000\n",
    "\n",
    "audio, _ = librosa.load(\"input/j3ko_3s.wav\", sr=SAMPLE_RATE)\n",
    "audio_l = len(audio)\n",
    "audio = np.pad(audio, WINDOW_LENGTH // 2, mode=\"constant\")\n",
    "\n",
    "audio = torch.from_numpy(audio).float()\n",
    "audio_steps = audio_l // HOP_LENGTH + 1\n",
    "\n",
    "seq_len = 2.55\n",
    "seq_len = int(seq_len * SAMPLE_RATE)\n",
    "\n",
    "data = []\n",
    "\n",
    "n_steps = seq_len // HOP_LENGTH + 1\n",
    "for i in range(audio_l // seq_len):\n",
    "    begin_t = i * seq_len\n",
    "    end_t = begin_t + seq_len + WINDOW_LENGTH\n",
    "    begin_step = begin_t // HOP_LENGTH\n",
    "    end_step = begin_step + n_steps\n",
    "    data.append(\n",
    "        audio[begin_t:end_t],\n",
    "    )\n",
    "data.append(\n",
    "    audio[-seq_len - WINDOW_LENGTH :],\n",
    ")\n",
    "\n"
   ]
  },
  {
   "cell_type": "code",
   "execution_count": 25,
   "metadata": {},
   "outputs": [],
   "source": [
    "from src.model import E2E\n",
    "\n",
    "\n",
    "model = torch.load('runs/Pitch_FL6_0/model.pt')\n",
    "model.eval()\n",
    "model = model.cuda()"
   ]
  },
  {
   "cell_type": "code",
   "execution_count": 26,
   "metadata": {},
   "outputs": [],
   "source": [
    "data = torch.stack(data).cuda()"
   ]
  },
  {
   "cell_type": "code",
   "execution_count": 27,
   "metadata": {},
   "outputs": [
    {
     "data": {
      "text/plain": [
       "torch.Size([2, 42848])"
      ]
     },
     "execution_count": 27,
     "metadata": {},
     "output_type": "execute_result"
    }
   ],
   "source": [
    "data.shape"
   ]
  },
  {
   "cell_type": "code",
   "execution_count": 20,
   "metadata": {},
   "outputs": [],
   "source": [
    "with torch.no_grad():\n",
    "    result = model(data)\n"
   ]
  },
  {
   "cell_type": "code",
   "execution_count": 21,
   "metadata": {},
   "outputs": [],
   "source": [
    "result = result[1]"
   ]
  },
  {
   "cell_type": "code",
   "execution_count": 22,
   "metadata": {},
   "outputs": [
    {
     "data": {
      "text/plain": [
       "torch.Size([2, 128, 360])"
      ]
     },
     "execution_count": 22,
     "metadata": {},
     "output_type": "execute_result"
    }
   ],
   "source": [
    "result.shape"
   ]
  },
  {
   "cell_type": "code",
   "execution_count": 23,
   "metadata": {},
   "outputs": [],
   "source": [
    "from src.utils import to_local_average_cents\n",
    "\n",
    "\n",
    "cents_pred = to_local_average_cents(result.view(-1,360).cpu().numpy(),None, 0 )"
   ]
  },
  {
   "cell_type": "code",
   "execution_count": 7,
   "metadata": {},
   "outputs": [],
   "source": [
    "freq_pred = np.array(\n",
    "            [\n",
    "                10 * (2 ** (cent_pred / 1200)) if cent_pred else 0\n",
    "                for cent_pred in cents_pred\n",
    "            ]\n",
    "        )\n",
    "freq = np.array(\n",
    "    [10 * (2 ** (cent / 1200)) if cent else 0 for cent in cents_pred]\n",
    ")"
   ]
  },
  {
   "cell_type": "code",
   "execution_count": 8,
   "metadata": {},
   "outputs": [],
   "source": [
    "import pandas as pd"
   ]
  },
  {
   "cell_type": "code",
   "execution_count": 39,
   "metadata": {},
   "outputs": [],
   "source": [
    "df = pd.DataFrame({\"frequency\": freq})"
   ]
  },
  {
   "cell_type": "code",
   "execution_count": 40,
   "metadata": {},
   "outputs": [],
   "source": [
    "df.to_csv('f0.csv', index=False)"
   ]
  },
  {
   "cell_type": "code",
   "execution_count": null,
   "metadata": {},
   "outputs": [],
   "source": []
  }
 ],
 "metadata": {
  "kernelspec": {
   "display_name": "rmvpe",
   "language": "python",
   "name": "python3"
  },
  "language_info": {
   "codemirror_mode": {
    "name": "ipython",
    "version": 3
   },
   "file_extension": ".py",
   "mimetype": "text/x-python",
   "name": "python",
   "nbconvert_exporter": "python",
   "pygments_lexer": "ipython3",
   "version": "3.10.14"
  }
 },
 "nbformat": 4,
 "nbformat_minor": 2
}

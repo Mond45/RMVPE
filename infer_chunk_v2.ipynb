{
 "cells": [
  {
   "cell_type": "code",
   "execution_count": 519,
   "metadata": {},
   "outputs": [
    {
     "name": "stdout",
     "output_type": "stream",
     "text": [
      "end = 40800\n",
      "padleft =  0\n",
      "padright =  263673\n",
      "chunk shape =  torch.Size([40800])\n",
      "-------\n",
      "end = 61200\n",
      "padleft =  20400\n",
      "padright =  243273\n",
      "chunk shape =  torch.Size([40800])\n",
      "-------\n",
      "end = 81600\n",
      "padleft =  40800\n",
      "padright =  222873\n",
      "chunk shape =  torch.Size([40800])\n",
      "-------\n",
      "end = 102000\n",
      "padleft =  61200\n",
      "padright =  202473\n",
      "chunk shape =  torch.Size([40800])\n",
      "-------\n",
      "end = 122400\n",
      "padleft =  81600\n",
      "padright =  182073\n",
      "chunk shape =  torch.Size([40800])\n",
      "-------\n",
      "end = 142800\n",
      "padleft =  102000\n",
      "padright =  161673\n",
      "chunk shape =  torch.Size([40800])\n",
      "-------\n",
      "end = 163200\n",
      "padleft =  122400\n",
      "padright =  141273\n",
      "chunk shape =  torch.Size([40800])\n",
      "-------\n",
      "end = 183600\n",
      "padleft =  142800\n",
      "padright =  120873\n",
      "chunk shape =  torch.Size([40800])\n",
      "-------\n",
      "end = 204000\n",
      "padleft =  163200\n",
      "padright =  100473\n",
      "chunk shape =  torch.Size([40800])\n",
      "-------\n",
      "end = 224400\n",
      "padleft =  183600\n",
      "padright =  80073\n",
      "chunk shape =  torch.Size([40800])\n",
      "-------\n",
      "end = 244800\n",
      "padleft =  204000\n",
      "padright =  59673\n",
      "chunk shape =  torch.Size([40800])\n",
      "-------\n",
      "end = 265200\n",
      "padleft =  224400\n",
      "padright =  39273\n",
      "chunk shape =  torch.Size([40800])\n",
      "-------\n",
      "end = 285600\n",
      "padleft =  244800\n",
      "padright =  18873\n",
      "chunk shape =  torch.Size([40800])\n",
      "-------\n"
     ]
    }
   ],
   "source": [
    "import librosa\n",
    "import numpy as np\n",
    "import torch\n",
    "\n",
    "from src.constants import SAMPLE_RATE, WINDOW_LENGTH\n",
    "\n",
    "HOP_LENGTH = 20\n",
    "HOP_LENGTH = int(HOP_LENGTH / 1000 * SAMPLE_RATE)\n",
    "SAMPLE_RATE = 16000\n",
    "\n",
    "audio, _ = librosa.load(\"input/j3ko.wav\", sr=SAMPLE_RATE)\n",
    "audio_l = len(audio)\n",
    "\n",
    "\n",
    "audio = torch.from_numpy(audio).float()\n",
    "audio_steps = audio_l // HOP_LENGTH + 1\n",
    "\n",
    "seq_len = 2.55\n",
    "seq_len = int(seq_len * SAMPLE_RATE)\n",
    "\n",
    "chunk_duration = 2.55\n",
    "overlap = 2\n",
    "chunk_samples = int(chunk_duration * SAMPLE_RATE)\n",
    "chunk_overlap = int(chunk_duration * SAMPLE_RATE  // overlap)\n",
    "chunks = []\n",
    "# print(len(audio))\n",
    "# print(len(audio) - chunk_samples)\n",
    "for i in range(0, len(audio) - chunk_samples + 1, chunk_overlap):\n",
    "    chunk = audio[i:i + chunk_samples]\n",
    "    print('end =', i + chunk_samples)\n",
    "    print('padleft = ', i)\n",
    "    print('padright = ', len(audio)-i-chunk_samples)\n",
    "    print('chunk shape = ', chunk.shape)\n",
    "    print('-------')\n",
    "    chunk = torch.nn.functional.pad(chunk, (i, len(audio)-i-chunk_samples), 'constant', 0)\n",
    "    chunk = np.pad(chunk, WINDOW_LENGTH // 2, mode=\"constant\")        \n",
    "    chunks.append(chunk)\n",
    "\n",
    "\n",
    "datas = []\n",
    "\n",
    "for chunk in chunks :\n",
    "    data = []\n",
    "    for i in range(len(chunk) // seq_len):\n",
    "        begin_t = i * seq_len\n",
    "        end_t = begin_t + seq_len + WINDOW_LENGTH\n",
    "        data.append(\n",
    "            chunk[begin_t:end_t],\n",
    "        )\n",
    "    chunk = chunk[end_t - WINDOW_LENGTH :]\n",
    "    padding_size = seq_len + WINDOW_LENGTH - len(chunk)\n",
    "    data.append(\n",
    "        np.pad(chunk, (0, padding_size), mode='constant'),\n",
    "    )\n",
    "    datas.append(data)\n",
    "\n",
    "datas = torch.from_numpy(np.array(datas)).float()\n",
    "chunk_n = datas.shape[1]"
   ]
  },
  {
   "cell_type": "code",
   "execution_count": 520,
   "metadata": {},
   "outputs": [
    {
     "data": {
      "text/plain": [
       "7.462573529411765"
      ]
     },
     "execution_count": 520,
     "metadata": {},
     "output_type": "execute_result"
    }
   ],
   "source": [
    "len(audio) / seq_len"
   ]
  },
  {
   "cell_type": "code",
   "execution_count": 521,
   "metadata": {},
   "outputs": [
    {
     "data": {
      "text/plain": [
       "0.0"
      ]
     },
     "execution_count": 521,
     "metadata": {},
     "output_type": "execute_result"
    }
   ],
   "source": [
    "len(chunk[end_t - WINDOW_LENGTH :])/seq_len"
   ]
  },
  {
   "cell_type": "code",
   "execution_count": 522,
   "metadata": {},
   "outputs": [
    {
     "data": {
      "text/plain": [
       "0.4625735294117647"
      ]
     },
     "execution_count": 522,
     "metadata": {},
     "output_type": "execute_result"
    }
   ],
   "source": [
    "(len(audio) - end_t + WINDOW_LENGTH)/seq_len"
   ]
  },
  {
   "cell_type": "code",
   "execution_count": 523,
   "metadata": {},
   "outputs": [
    {
     "data": {
      "text/plain": [
       "8"
      ]
     },
     "execution_count": 523,
     "metadata": {},
     "output_type": "execute_result"
    }
   ],
   "source": [
    "datas.shape[1]"
   ]
  },
  {
   "cell_type": "code",
   "execution_count": 524,
   "metadata": {},
   "outputs": [
    {
     "data": {
      "text/plain": [
       "13"
      ]
     },
     "execution_count": 524,
     "metadata": {},
     "output_type": "execute_result"
    }
   ],
   "source": [
    "len(chunks)"
   ]
  },
  {
   "cell_type": "code",
   "execution_count": 525,
   "metadata": {},
   "outputs": [],
   "source": [
    "from src.model import E2E\n",
    "\n",
    "\n",
    "model = torch.load('runs/Pitch_FL6_0/model.pt')\n",
    "model.eval()\n",
    "model = model.cuda()"
   ]
  },
  {
   "cell_type": "code",
   "execution_count": 526,
   "metadata": {},
   "outputs": [],
   "source": [
    "results = []\n",
    "overlap_results = []\n",
    "i = 0\n",
    "for data in datas:\n",
    "    data = data.cuda()\n",
    "    with torch.no_grad():\n",
    "        result = model(data)\n",
    "        results.append(result[1].cpu().numpy())\n",
    "    i += 1\n",
    "\n",
    "results = torch.from_numpy(np.array(results)).float()"
   ]
  },
  {
   "cell_type": "code",
   "execution_count": 527,
   "metadata": {},
   "outputs": [
    {
     "data": {
      "text/plain": [
       "torch.Size([13, 8, 128, 360])"
      ]
     },
     "execution_count": 527,
     "metadata": {},
     "output_type": "execute_result"
    }
   ],
   "source": [
    "results.shape"
   ]
  },
  {
   "cell_type": "code",
   "execution_count": 528,
   "metadata": {},
   "outputs": [
    {
     "name": "stdout",
     "output_type": "stream",
     "text": [
      "torch.Size([8, 128, 360])\n",
      "torch.Size([8, 128, 360])\n",
      "torch.Size([8, 128, 360])\n",
      "torch.Size([8, 128, 360])\n",
      "torch.Size([8, 128, 360])\n",
      "torch.Size([8, 128, 360])\n",
      "torch.Size([8, 128, 360])\n",
      "torch.Size([8, 128, 360])\n",
      "torch.Size([8, 128, 360])\n",
      "torch.Size([8, 128, 360])\n",
      "torch.Size([8, 128, 360])\n",
      "torch.Size([8, 128, 360])\n",
      "torch.Size([8, 128, 360])\n"
     ]
    }
   ],
   "source": [
    "from src.utils import to_local_average_cents\n",
    "\n",
    "cents_pred_chunk = []\n",
    "\n",
    "for result in results:\n",
    "    print(result.shape)\n",
    "    cents_pred = to_local_average_cents(result.view(-1,360).cpu().numpy(),None, 0 )\n",
    "    cents_pred_chunk.append(cents_pred)"
   ]
  },
  {
   "cell_type": "code",
   "execution_count": 529,
   "metadata": {},
   "outputs": [
    {
     "data": {
      "text/plain": [
       "128.0"
      ]
     },
     "execution_count": 529,
     "metadata": {},
     "output_type": "execute_result"
    }
   ],
   "source": [
    "cents_pred_chunk[0].shape[0] / 8"
   ]
  },
  {
   "cell_type": "code",
   "execution_count": 530,
   "metadata": {},
   "outputs": [
    {
     "data": {
      "text/plain": [
       "(1024,)"
      ]
     },
     "execution_count": 530,
     "metadata": {},
     "output_type": "execute_result"
    }
   ],
   "source": [
    "cents_pred_chunk[0].shape"
   ]
  },
  {
   "cell_type": "code",
   "execution_count": 531,
   "metadata": {},
   "outputs": [
    {
     "data": {
      "text/plain": [
       "128"
      ]
     },
     "execution_count": 531,
     "metadata": {},
     "output_type": "execute_result"
    }
   ],
   "source": [
    "freq_l // chunk_n"
   ]
  },
  {
   "cell_type": "code",
   "execution_count": 532,
   "metadata": {},
   "outputs": [
    {
     "name": "stdout",
     "output_type": "stream",
     "text": [
      "0: 128\n",
      "64: 192\n",
      "128: 256\n",
      "192: 320\n",
      "256: 384\n",
      "320: 448\n",
      "384: 512\n",
      "448: 576\n",
      "512: 640\n",
      "576: 704\n",
      "640: 768\n",
      "704: 832\n",
      "768: 896\n"
     ]
    }
   ],
   "source": [
    "freqs = []\n",
    "freq_l = cents_pred_chunk[0].shape[0]\n",
    "freq_result = np.zeros(freq_l)\n",
    "freq_chunk_size = freq_l // chunk_n\n",
    "overlap_chunk =  int(freq_chunk_size // overlap)\n",
    "overlap_freqs = []\n",
    "for i, cents_pred in enumerate(cents_pred_chunk):\n",
    "    freq = np.array(\n",
    "        [10 * (2 ** (cent / 1200)) if cent else 0 for cent in cents_pred]\n",
    "    )\n",
    "    st = max(0,i*overlap_chunk)\n",
    "    print(f'{st}: {st+freq_chunk_size}')\n",
    "    freq_result[st: st+freq_chunk_size] += freq[st: st+freq_chunk_size]\n",
    "freq_result[overlap_chunk:st+freq_chunk_size-overlap_chunk] = freq_result[overlap_chunk:st+freq_chunk_size-overlap_chunk] / 2"
   ]
  },
  {
   "cell_type": "code",
   "execution_count": 533,
   "metadata": {},
   "outputs": [
    {
     "data": {
      "text/plain": [
       "(1024,)"
      ]
     },
     "execution_count": 533,
     "metadata": {},
     "output_type": "execute_result"
    }
   ],
   "source": [
    "freq_result.shape"
   ]
  },
  {
   "cell_type": "code",
   "execution_count": 534,
   "metadata": {},
   "outputs": [
    {
     "data": {
      "text/plain": [
       "(896,)"
      ]
     },
     "execution_count": 534,
     "metadata": {},
     "output_type": "execute_result"
    }
   ],
   "source": [
    "freq_result[overlap_chunk:-overlap_chunk].shape"
   ]
  },
  {
   "cell_type": "code",
   "execution_count": 535,
   "metadata": {},
   "outputs": [],
   "source": [
    "import pandas as pd"
   ]
  },
  {
   "cell_type": "code",
   "execution_count": 536,
   "metadata": {},
   "outputs": [],
   "source": [
    "df = pd.DataFrame({\"frequency\": freq_result})"
   ]
  },
  {
   "cell_type": "code",
   "execution_count": 537,
   "metadata": {},
   "outputs": [],
   "source": [
    "df.to_csv('f0.csv', index=False)"
   ]
  },
  {
   "cell_type": "code",
   "execution_count": 538,
   "metadata": {},
   "outputs": [],
   "source": [
    "import pandas as pd\n",
    "import numpy as np\n",
    "from scipy.io.wavfile import write\n",
    "\n",
    "f0 = pd.read_csv(\"f0.csv\")\n",
    "\n",
    "\n",
    "def nco(fcw, sr):\n",
    "    phase = 0\n",
    "    phase_result = []\n",
    "    for fcw_samp in fcw:\n",
    "        ph_step = 2 * np.pi * fcw_samp * 1 / sr\n",
    "        phase += ph_step\n",
    "        phase_result.append(phase)\n",
    "    return np.cos(phase_result)\n",
    "\n",
    "\n",
    "step_size = 20\n",
    "SAMPLE_RATE = 16000\n",
    "quantum = (SAMPLE_RATE * step_size) // 1000\n",
    "# sample_rate = quantum * (1000 // step_size)\n",
    "\n",
    "fcw = np.zeros(quantum * f0.shape[0])\n",
    "\n",
    "for i in range(f0.shape[0]):\n",
    "    fcw[quantum * (i) : quantum * (i + 1)] = f0[\"frequency\"][i]\n",
    "\n",
    "output = nco(fcw, SAMPLE_RATE)\n",
    "\n",
    "\n",
    "\n",
    "write(\"j3k.wav\", SAMPLE_RATE, output)"
   ]
  },
  {
   "cell_type": "code",
   "execution_count": null,
   "metadata": {},
   "outputs": [],
   "source": []
  },
  {
   "cell_type": "code",
   "execution_count": null,
   "metadata": {},
   "outputs": [],
   "source": []
  }
 ],
 "metadata": {
  "kernelspec": {
   "display_name": "rmvpe",
   "language": "python",
   "name": "python3"
  },
  "language_info": {
   "codemirror_mode": {
    "name": "ipython",
    "version": 3
   },
   "file_extension": ".py",
   "mimetype": "text/x-python",
   "name": "python",
   "nbconvert_exporter": "python",
   "pygments_lexer": "ipython3",
   "version": "3.10.14"
  }
 },
 "nbformat": 4,
 "nbformat_minor": 2
}

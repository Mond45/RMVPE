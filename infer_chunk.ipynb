{
 "cells": [
  {
   "cell_type": "code",
   "execution_count": 110,
   "metadata": {},
   "outputs": [],
   "source": [
    "import librosa\n",
    "import numpy as np\n",
    "import torch\n",
    "\n",
    "from src.constants import SAMPLE_RATE, WINDOW_LENGTH\n",
    "\n",
    "HOP_LENGTH = 20\n",
    "HOP_LENGTH = int(HOP_LENGTH / 1000 * SAMPLE_RATE)\n",
    "SAMPLE_RATE = 16000\n",
    "\n",
    "audio, _ = librosa.load(\"input/j3ko.wav\", sr=SAMPLE_RATE)\n",
    "audio_l = len(audio)\n",
    "audio = np.pad(audio, WINDOW_LENGTH // 2, mode=\"constant\")\n",
    "\n",
    "\n",
    "audio = torch.from_numpy(audio).float()\n",
    "audio_steps = audio_l // HOP_LENGTH + 1\n",
    "\n",
    "seq_len = 2.55\n",
    "seq_len = int(seq_len * SAMPLE_RATE)\n",
    "\n",
    "chunk_duration = 3 \n",
    "chunk_samples = int(chunk_duration * SAMPLE_RATE)\n",
    "chunk_overlap = int(chunk_duration // 2 * SAMPLE_RATE)\n",
    "chunks = []\n",
    "for i in range(0, len(audio) + chunk_overlap, chunk_samples):\n",
    "    st = max(0, i - chunk_overlap) \n",
    "    chunk = audio[st:st + chunk_overlap]\n",
    "    if len(chunk) < chunk_samples:\n",
    "        pad_size = chunk_samples - len(chunk)\n",
    "        chunk = torch.nn.functional.pad(chunk, (0, pad_size), 'constant', 0)\n",
    "    chunks.append(chunk)\n",
    "\n",
    "\n",
    "datas = []\n",
    "\n",
    "for chunk in chunks :\n",
    "    data = []\n",
    "    for i in range(len(chunk) // seq_len):\n",
    "        begin_t = i * seq_len\n",
    "        end_t = begin_t + seq_len + WINDOW_LENGTH\n",
    "        data.append(\n",
    "            chunk[begin_t:end_t],\n",
    "        )\n",
    "    data.append(\n",
    "        chunk[-seq_len - WINDOW_LENGTH :],\n",
    "    )\n",
    "    datas.append(data)\n",
    "\n",
    "datas = torch.from_numpy(np.array(datas)).float()"
   ]
  },
  {
   "cell_type": "code",
   "execution_count": 111,
   "metadata": {},
   "outputs": [
    {
     "data": {
      "text/plain": [
       "torch.Size([7, 2, 42848])"
      ]
     },
     "execution_count": 111,
     "metadata": {},
     "output_type": "execute_result"
    }
   ],
   "source": [
    "datas.shape"
   ]
  },
  {
   "cell_type": "code",
   "execution_count": 112,
   "metadata": {},
   "outputs": [],
   "source": [
    "from src.model import E2E\n",
    "\n",
    "\n",
    "model = torch.load('runs/Pitch_FL6_0/model.pt')\n",
    "model.eval()\n",
    "model = model.cuda()"
   ]
  },
  {
   "cell_type": "code",
   "execution_count": 113,
   "metadata": {},
   "outputs": [
    {
     "data": {
      "text/plain": [
       "torch.Size([7, 2, 42848])"
      ]
     },
     "execution_count": 113,
     "metadata": {},
     "output_type": "execute_result"
    }
   ],
   "source": [
    "datas.shape"
   ]
  },
  {
   "cell_type": "code",
   "execution_count": 114,
   "metadata": {},
   "outputs": [],
   "source": [
    "results = []\n",
    "overlap_results = []\n",
    "i = 0\n",
    "for data in datas:\n",
    "    data = data.cuda()\n",
    "    with torch.no_grad():\n",
    "        result = model(data)\n",
    "        # if (i > 0):\n",
    "        #     matrix1 = results[i-1] \n",
    "        #     matrix2 = result[1]\n",
    "        #     overlap_results.append(sum_overlap(matrix1, matrix2, chunk_overlap)) \n",
    "        results.append(result[1].cpu().numpy())\n",
    "    i += 1\n",
    "\n",
    "results = torch.from_numpy(np.array(results)).float()"
   ]
  },
  {
   "cell_type": "code",
   "execution_count": 115,
   "metadata": {},
   "outputs": [],
   "source": [
    "# for result in results :\n",
    "#     data = []\n",
    "#     for i in range(len(chunk) // seq_len):\n",
    "#         begin_t = i * seq_len\n",
    "#         end_t = begin_t + seq_len + WINDOW_LENGTH\n",
    "#         data.append(\n",
    "#             chunk[begin_t:end_t],\n",
    "#         )\n",
    "#     data.append(\n",
    "#         chunk[-seq_len - WINDOW_LENGTH :],\n",
    "#     )\n",
    "#     datas.append(data)"
   ]
  },
  {
   "cell_type": "code",
   "execution_count": 116,
   "metadata": {},
   "outputs": [
    {
     "name": "stdout",
     "output_type": "stream",
     "text": [
      "torch.Size([2, 128, 360])\n",
      "torch.Size([2, 128, 360])\n",
      "torch.Size([2, 128, 360])\n",
      "torch.Size([2, 128, 360])\n",
      "torch.Size([2, 128, 360])\n",
      "torch.Size([2, 128, 360])\n",
      "torch.Size([2, 128, 360])\n"
     ]
    }
   ],
   "source": [
    "from src.utils import to_local_average_cents\n",
    "\n",
    "cents_pred_chunck = []\n",
    "\n",
    "for result in results:\n",
    "    print(result.shape)\n",
    "    cents_pred = to_local_average_cents(result.view(-1,360).cpu().numpy(),None, 0 )\n",
    "    cents_pred_chunck.append(cents_pred)"
   ]
  },
  {
   "cell_type": "code",
   "execution_count": 117,
   "metadata": {},
   "outputs": [],
   "source": [
    "def __sum_overlap(matrix1, matrix2, overlap):\n",
    "    matrix1 = np.pad(matrix1, (0, overlap), mode='constant')\n",
    "    matrix2 = np.pad(matrix2, (overlap, 0), mode='constant')\n",
    "    result = matrix2 + matrix1\n",
    "    result[overlap:-overlap] =  result[overlap:-overlap]/2\n",
    "    return result"
   ]
  },
  {
   "cell_type": "code",
   "execution_count": 118,
   "metadata": {},
   "outputs": [],
   "source": [
    "def sum_overlap(matrix1, matrix2, overlap):\n",
    "    matrix1 = matrix1[-overlap:]\n",
    "    matrix2 = matrix2[:overlap]\n",
    "    result = matrix2 + matrix1\n",
    "    result[overlap:-overlap] = result[overlap:-overlap] / 2\n",
    "    return result"
   ]
  },
  {
   "cell_type": "code",
   "execution_count": 119,
   "metadata": {},
   "outputs": [
    {
     "name": "stdout",
     "output_type": "stream",
     "text": [
      "start: 128 stop: 256\n",
      "start: 256 stop: 384\n",
      "start: 384 stop: 512\n",
      "start: 512 stop: 640\n",
      "start: 640 stop: 768\n",
      "start: 768 stop: 896\n"
     ]
    },
    {
     "ename": "ValueError",
     "evalue": "operands could not be broadcast together with shapes (640,) (128,) (640,) ",
     "output_type": "error",
     "traceback": [
      "\u001b[1;31m---------------------------------------------------------------------------\u001b[0m",
      "\u001b[1;31mValueError\u001b[0m                                Traceback (most recent call last)",
      "Cell \u001b[1;32mIn[119], line 24\u001b[0m\n\u001b[0;32m     22\u001b[0m     freq_result[start : start \u001b[38;5;241m+\u001b[39m overlap] \u001b[38;5;241m+\u001b[39m\u001b[38;5;241m=\u001b[39m mean_freq\n\u001b[0;32m     23\u001b[0m     \u001b[38;5;28;01mif\u001b[39;00m (i \u001b[38;5;241m==\u001b[39m \u001b[38;5;28mlen\u001b[39m(cents_pred_chunck) \u001b[38;5;241m-\u001b[39m \u001b[38;5;241m1\u001b[39m):\n\u001b[1;32m---> 24\u001b[0m         freq_result[start \u001b[38;5;241m+\u001b[39m overlap :] \u001b[38;5;241m+\u001b[39m\u001b[38;5;241m=\u001b[39m freq[overlap:]\n\u001b[0;32m     25\u001b[0m freqs\u001b[38;5;241m.\u001b[39mappend(freq)\n",
      "\u001b[1;31mValueError\u001b[0m: operands could not be broadcast together with shapes (640,) (128,) (640,) "
     ]
    }
   ],
   "source": [
    "# freq_pred = np.array(\n",
    "#             [\n",
    "#                 10 * (2 ** (cent_pred / 1200)) if cent_pred else 0\n",
    "#                 for cent_pred in cents_pred\n",
    "#             ]\n",
    "#         )\n",
    "freqs = []\n",
    "freq_result = np.zeros(len(cents_pred_chunck[0]) * (len(cents_pred_chunck) - 1)) \n",
    "overlap_freqs = []\n",
    "for i, cents_pred in enumerate(cents_pred_chunck):\n",
    "    freq = np.array(\n",
    "        [10 * (2 ** (cent / 1200)) if cent else 0 for cent in cents_pred]\n",
    "    )\n",
    "    overlap = len(freq) // 2\n",
    "    start = max(0, i*overlap)\n",
    "    if (i == 0):\n",
    "        mean_freq = freq\n",
    "        freq_result[start : start + len(freq)] += mean_freq\n",
    "    else:\n",
    "        mean_freq = sum_overlap(freqs[i-1],freq, overlap)\n",
    "        print(f'start: {start} stop: {start + overlap}')\n",
    "        freq_result[start : start + overlap] += mean_freq\n",
    "        if (i == len(cents_pred_chunck) - 1):\n",
    "            freq_result[start + overlap :] += freq[overlap:]\n",
    "    freqs.append(freq)"
   ]
  },
  {
   "cell_type": "code",
   "execution_count": 107,
   "metadata": {},
   "outputs": [],
   "source": [
    "import pandas as pd"
   ]
  },
  {
   "cell_type": "code",
   "execution_count": 108,
   "metadata": {},
   "outputs": [],
   "source": [
    "df = pd.DataFrame({\"frequency\": freq_result})"
   ]
  },
  {
   "cell_type": "code",
   "execution_count": 109,
   "metadata": {},
   "outputs": [],
   "source": [
    "df.to_csv('f0.csv', index=False)"
   ]
  },
  {
   "cell_type": "code",
   "execution_count": null,
   "metadata": {},
   "outputs": [],
   "source": []
  }
 ],
 "metadata": {
  "kernelspec": {
   "display_name": "rmvpe",
   "language": "python",
   "name": "python3"
  },
  "language_info": {
   "codemirror_mode": {
    "name": "ipython",
    "version": 3
   },
   "file_extension": ".py",
   "mimetype": "text/x-python",
   "name": "python",
   "nbconvert_exporter": "python",
   "pygments_lexer": "ipython3",
   "version": "3.10.14"
  }
 },
 "nbformat": 4,
 "nbformat_minor": 2
}
